{
 "cells": [
  {
   "cell_type": "markdown",
   "metadata": {},
   "source": [
    "## Perfect Numbers\n",
    "By definition, a natural number is called a perfect number if its value is equal to the sum of its real divisors. This is true, for example, for the numbers 6 and 28:\n",
    "\n",
    "1+ 2+ 3 = 6\n",
    "\n",
    "1 + 2 + 4 + 7 + 14 = 28\n",
    "\n",
    "Write function calc_perfect_numbers(max_exclusive) that calculates the perfect numbers up to a maximum value, say 10,000."
   ]
  },
  {
   "cell_type": "code",
   "execution_count": 1,
   "metadata": {},
   "outputs": [],
   "source": [
    "def is_perfect_number(number):\n",
    "    sum_of_multipliers = 1\n",
    "    for i in range(2, int(number / 2) + 1):\n",
    "        if number % i == 0:\n",
    "            sum_of_multipliers += i\n",
    "    return sum_of_multipliers == number"
   ]
  },
  {
   "cell_type": "code",
   "execution_count": 2,
   "metadata": {},
   "outputs": [],
   "source": [
    "def find_proper_divisors_v2(value):\n",
    "    divisors = [1]\n",
    "    for i in range(2, value // 2 + 1):\n",
    "        if value % i == 0:\n",
    "            divisors.append(i)\n",
    "    return divisors\n",
    "\n",
    "\n",
    "def is_perfect_number_v2(number):\n",
    "    divisors = find_proper_divisors_v2(number)\n",
    "    return sum(divisors) == number"
   ]
  },
  {
   "cell_type": "code",
   "execution_count": 3,
   "metadata": {},
   "outputs": [],
   "source": [
    "def find_proper_divisors_v3(value):\n",
    "    return [i for i in range(1, value // 2 + 1) if value % i == 0]\n",
    "\n",
    "\n",
    "def is_perfect_number_v3(number):\n",
    "    divisors = find_proper_divisors_v3(number)\n",
    "    return sum(divisors) == number"
   ]
  },
  {
   "cell_type": "code",
   "execution_count": 4,
   "metadata": {},
   "outputs": [],
   "source": [
    "import pytest\n",
    "\n",
    "\n",
    "@pytest.mark.parametrize(\"n, expected\",\n",
    "                         [(6, True),\n",
    "                          (28, True),\n",
    "                          (496, True),\n",
    "                          (8128, True)])\n",
    "def test_is_perfect_number(n, expected):\n",
    "    assert is_perfect_number(n) == expected\n",
    "    assert is_perfect_number_v2(n) == expected\n",
    "    assert is_perfect_number_v3(n) == expected"
   ]
  },
  {
   "cell_type": "code",
   "execution_count": 5,
   "metadata": {},
   "outputs": [],
   "source": [
    "def calc_perfect_numbers(max_exclusive):\n",
    "    results = []\n",
    "    for i in range(2, max_exclusive):\n",
    "        if is_perfect_number(i):\n",
    "            results.append(i)\n",
    "    return results"
   ]
  },
  {
   "cell_type": "code",
   "execution_count": 6,
   "metadata": {},
   "outputs": [],
   "source": [
    "def calc_perfect_numbers_v2(max_exclusive):\n",
    "    return [i for i in range(2, max_exclusive) if is_perfect_number(i)]"
   ]
  },
  {
   "cell_type": "code",
   "execution_count": 7,
   "metadata": {},
   "outputs": [],
   "source": [
    "@pytest.mark.parametrize(\"n, expected\", [(50, [6, 28]),\n",
    "                                         (1000, [6, 28, 496]),\n",
    "                                         (10000, [6, 28, 496, 8128])])\n",
    "def test_calc_perfect_numbers(n, expected):\n",
    "    assert calc_perfect_numbers(n) == expected\n",
    "    assert calc_perfect_numbers_v2(n) == expected"
   ]
  }
 ],
 "metadata": {
  "interpreter": {
   "hash": "e1eaf04ccdf268c332c83ff1cf695355cc194ab23e8ff98fff669a3144bd3d3f"
  },
  "kernelspec": {
   "display_name": "Python 3.10.4 ('env': venv)",
   "language": "python",
   "name": "python3"
  },
  "language_info": {
   "codemirror_mode": {
    "name": "ipython",
    "version": 3
   },
   "file_extension": ".py",
   "mimetype": "text/x-python",
   "name": "python",
   "nbconvert_exporter": "python",
   "pygments_lexer": "ipython3",
   "version": "3.10.4"
  },
  "orig_nbformat": 4
 },
 "nbformat": 4,
 "nbformat_minor": 2
}
