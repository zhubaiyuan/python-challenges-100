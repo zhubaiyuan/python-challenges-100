{
 "cells": [
  {
   "cell_type": "markdown",
   "metadata": {},
   "source": [
    "## Prime Factorization\n",
    "Any natural number greater than 1 can be represented as a multiplication of primes. Remember the fact that 2 is also a prime. Write function calc_prime_factors(value) that returns a list of prime numbers whose multiplication yields the desired number."
   ]
  },
  {
   "cell_type": "code",
   "execution_count": 1,
   "metadata": {},
   "outputs": [],
   "source": [
    "from common.calc_primes_up_to import calc_primes_up_to\n",
    "\n",
    "def is_prime(all_primes, n):\n",
    "    return n in all_primes"
   ]
  },
  {
   "cell_type": "code",
   "execution_count": 2,
   "metadata": {},
   "outputs": [],
   "source": [
    "def calc_prime_factors(value):\n",
    "    all_primes = calc_primes_up_to(value)\n",
    "    prime_factors = []\n",
    "    remaining_value = value\n",
    "    # as long as even, divide by 2 again and again\n",
    "    while remaining_value % 2 == 0 and remaining_value >= 2:\n",
    "        remaining_value = remaining_value // 2\n",
    "        prime_factors.append(2)\n",
    "    # check remainder for prime\n",
    "    if is_prime(all_primes, remaining_value):\n",
    "        prime_factors.append(remaining_value)\n",
    "    else:\n",
    "        # remainder is not a prime number, further check\n",
    "        while remaining_value > 1:\n",
    "            for current_prime in all_primes:\n",
    "                if remaining_value % current_prime == 0:\n",
    "                    remaining_value = remaining_value // current_prime\n",
    "                    prime_factors.append(current_prime)\n",
    "                    # start again from the beginning, because every divisor\n",
    "                    # may occur more than once\n",
    "                    break\n",
    "    return prime_factors"
   ]
  },
  {
   "cell_type": "code",
   "execution_count": 3,
   "metadata": {},
   "outputs": [],
   "source": [
    "assert calc_prime_factors(8) == [2, 2, 2]\n",
    "assert calc_prime_factors(14) == [2, 7]\n",
    "assert calc_prime_factors(42) == [2, 3, 7]\n",
    "assert calc_prime_factors(1155) == [3, 5, 7, 11]\n",
    "assert calc_prime_factors(2222) == [2, 11, 101]"
   ]
  },
  {
   "cell_type": "code",
   "execution_count": 4,
   "metadata": {},
   "outputs": [],
   "source": [
    "def calc_prime_factors_v2(value):\n",
    "    all_primes = calc_primes_up_to(value)\n",
    "    prime_factors = []\n",
    "    remaining_value = value\n",
    "    while remaining_value > 1:\n",
    "        for current_prime in all_primes:\n",
    "            while remaining_value % current_prime == 0:\n",
    "                remaining_value = remaining_value // current_prime\n",
    "                prime_factors.append(current_prime)\n",
    "    return prime_factors"
   ]
  },
  {
   "cell_type": "code",
   "execution_count": null,
   "metadata": {},
   "outputs": [],
   "source": [
    "assert calc_prime_factors_v2(8) == [2, 2, 2]\n",
    "assert calc_prime_factors_v2(14) == [2, 7]\n",
    "assert calc_prime_factors_v2(42) == [2, 3, 7]\n",
    "assert calc_prime_factors_v2(1155) == [3, 5, 7, 11]\n",
    "assert calc_prime_factors_v2(2222) == [2, 11, 101]"
   ]
  }
 ],
 "metadata": {
  "interpreter": {
   "hash": "e1eaf04ccdf268c332c83ff1cf695355cc194ab23e8ff98fff669a3144bd3d3f"
  },
  "kernelspec": {
   "display_name": "Python 3.10.4 ('env': venv)",
   "language": "python",
   "name": "python3"
  },
  "language_info": {
   "codemirror_mode": {
    "name": "ipython",
    "version": 3
   },
   "file_extension": ".py",
   "mimetype": "text/x-python",
   "name": "python",
   "nbconvert_exporter": "python",
   "pygments_lexer": "ipython3",
   "version": "3.10.4"
  },
  "orig_nbformat": 4
 },
 "nbformat": 4,
 "nbformat_minor": 2
}
