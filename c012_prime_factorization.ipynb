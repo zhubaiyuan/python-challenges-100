{
 "cells": [
  {
   "cell_type": "markdown",
   "metadata": {},
   "source": [
    "## Prime Factorization\n",
    "Any natural number greater than 1 can be represented as a multiplication of primes. Remember the fact that 2 is also a prime. Write function calc_prime_factors(value) that returns a list of prime numbers whose multiplication yields the desired number."
   ]
  },
  {
   "cell_type": "code",
   "execution_count": null,
   "metadata": {},
   "outputs": [],
   "source": []
  }
 ],
 "metadata": {
  "interpreter": {
   "hash": "e1eaf04ccdf268c332c83ff1cf695355cc194ab23e8ff98fff669a3144bd3d3f"
  },
  "kernelspec": {
   "display_name": "Python 3.10.4 ('env': venv)",
   "language": "python",
   "name": "python3"
  },
  "language_info": {
   "name": "python",
   "version": "3.10.4"
  },
  "orig_nbformat": 4
 },
 "nbformat": 4,
 "nbformat_minor": 2
}
