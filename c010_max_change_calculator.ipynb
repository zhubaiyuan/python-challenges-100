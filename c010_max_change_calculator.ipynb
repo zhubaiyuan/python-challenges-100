{
 "cells": [
  {
   "cell_type": "markdown",
   "metadata": {},
   "source": [
    "## Max Change Calculator\n",
    "Suppose you have a collection of coins or numbers of different values. Write function calc_max_possible_change(values) that determines, for positive integers, what amounts can be seamlessly generated with it starting from the value 1. The maximum value should be returned as a result."
   ]
  },
  {
   "cell_type": "code",
   "execution_count": 1,
   "metadata": {},
   "outputs": [],
   "source": [
    "def calc_max_possible_change(values):\n",
    "    # wrappng / copying necessary so that we do not sort the original\n",
    "    sorted_numbers = list(values)\n",
    "    sorted_numbers.sort()\n",
    "    max_possible_change = 0\n",
    "    for current_value in sorted_numbers:\n",
    "        if current_value > max_possible_change + 1:\n",
    "            break\n",
    "        max_possible_change += current_value\n",
    "    return max_possible_change"
   ]
  },
  {
   "cell_type": "code",
   "execution_count": 2,
   "metadata": {},
   "outputs": [],
   "source": [
    "assert calc_max_possible_change([1]) == 1\n",
    "assert calc_max_possible_change([1, 1]) == 2\n",
    "assert calc_max_possible_change([1, 5]) == 1\n",
    "assert calc_max_possible_change([1, 2, 4]) == 7\n",
    "assert calc_max_possible_change([1, 2, 3, 7]) == 13\n",
    "assert calc_max_possible_change([1, 2, 3, 8]) == 6\n",
    "assert calc_max_possible_change([1, 1, 1, 1, 5, 10, 20, 50]) == 39"
   ]
  }
 ],
 "metadata": {
  "interpreter": {
   "hash": "e1eaf04ccdf268c332c83ff1cf695355cc194ab23e8ff98fff669a3144bd3d3f"
  },
  "kernelspec": {
   "display_name": "Python 3.10.4 ('env': venv)",
   "language": "python",
   "name": "python3"
  },
  "language_info": {
   "codemirror_mode": {
    "name": "ipython",
    "version": 3
   },
   "file_extension": ".py",
   "mimetype": "text/x-python",
   "name": "python",
   "nbconvert_exporter": "python",
   "pygments_lexer": "ipython3",
   "version": "3.10.4"
  },
  "orig_nbformat": 4
 },
 "nbformat": 4,
 "nbformat_minor": 2
}
