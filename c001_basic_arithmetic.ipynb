{
 "cells": [
  {
   "cell_type": "markdown",
   "metadata": {},
   "source": [
    "## Basic Arithmetic Operations\n",
    "Write function calc(m, n) that multiplies two variables m and n of type int, then\n",
    "divides the product by two, and outputs the remainder with respect to division by 7."
   ]
  },
  {
   "cell_type": "code",
   "execution_count": 1,
   "metadata": {},
   "outputs": [],
   "source": [
    "def calc(m, n):\n",
    "    return m * n // 2 % 7"
   ]
  },
  {
   "cell_type": "code",
   "execution_count": 2,
   "metadata": {},
   "outputs": [],
   "source": [
    "def calc_v2(m, n):\n",
    "    return int(m * n / 2) % 7"
   ]
  },
  {
   "cell_type": "code",
   "execution_count": 3,
   "metadata": {},
   "outputs": [],
   "source": [
    "assert calc(6, 7) == 0\n",
    "assert calc(3, 4) == 6\n",
    "assert calc(5, 5) == 5"
   ]
  },
  {
   "cell_type": "code",
   "execution_count": 4,
   "metadata": {},
   "outputs": [],
   "source": [
    "assert calc_v2(6, 7) == 0\n",
    "assert calc_v2(3, 4) == 6\n",
    "assert calc_v2(5, 5) == 5"
   ]
  },
  {
   "cell_type": "markdown",
   "metadata": {},
   "source": [
    "## Statistics\n",
    "Count as well as sum up the natural numbers that are divisible by 2 or 7 up to a given maximum value (exclusive) and output it to the console. Write function calc_sum_and_count_all_numbers_div_by_2_or_7(max_exclusive). Extend it so that it returns the two values instead of performing the console output."
   ]
  },
  {
   "cell_type": "code",
   "execution_count": 5,
   "metadata": {},
   "outputs": [],
   "source": [
    "def calc_sum_and_count_all_numbers_div_by_2_or_7(max_exclusive):\n",
    "    count = 0\n",
    "    sum = 0\n",
    "    for i in range(1, max_exclusive):\n",
    "        if i % 2 == 0 or i % 7 == 0:\n",
    "            count += 1\n",
    "            sum += i\n",
    "    print(\"count:\", count)\n",
    "    print(\"sum:\", sum)"
   ]
  },
  {
   "cell_type": "code",
   "execution_count": 6,
   "metadata": {},
   "outputs": [],
   "source": [
    "def calc_sum_and_count_all_numbers_div_by_2_or_7_v2(max_exclusive):\n",
    "    count = 0\n",
    "    sum = 0\n",
    "    for i in range(1, max_exclusive):\n",
    "        if i % 2 == 0 or i % 7 == 0:\n",
    "            count += 1\n",
    "            sum += i\n",
    "    return {\"sum\": sum, \"count\": count}"
   ]
  },
  {
   "cell_type": "code",
   "execution_count": 7,
   "metadata": {},
   "outputs": [],
   "source": [
    "assert calc_sum_and_count_all_numbers_div_by_2_or_7_v2(3) == {\"sum\": 2, \"count\": 1}\n",
    "assert calc_sum_and_count_all_numbers_div_by_2_or_7_v2(8) == {\"sum\": 19, \"count\": 4}\n",
    "assert calc_sum_and_count_all_numbers_div_by_2_or_7_v2(15) == {\"sum\": 63, \"count\": 8}"
   ]
  },
  {
   "cell_type": "markdown",
   "metadata": {},
   "source": [
    "## Even or Odd Number\n",
    "Create the functions is_even(n) and is_odd(n) that will check if the passed integer is even or odd, respectively."
   ]
  },
  {
   "cell_type": "code",
   "execution_count": 8,
   "metadata": {},
   "outputs": [],
   "source": [
    "def is_even(n):\n",
    "    return n % 2 == 0"
   ]
  },
  {
   "cell_type": "code",
   "execution_count": 9,
   "metadata": {},
   "outputs": [],
   "source": [
    "def is_odd(n):\n",
    "    return n % 2 != 0"
   ]
  },
  {
   "cell_type": "code",
   "execution_count": 10,
   "metadata": {},
   "outputs": [],
   "source": [
    "assert is_even(2) == True\n",
    "assert is_even(7) == False"
   ]
  },
  {
   "cell_type": "code",
   "execution_count": 11,
   "metadata": {},
   "outputs": [],
   "source": [
    "assert is_odd(2) == False\n",
    "assert is_odd(7) == True"
   ]
  }
 ],
 "metadata": {
  "interpreter": {
   "hash": "e1eaf04ccdf268c332c83ff1cf695355cc194ab23e8ff98fff669a3144bd3d3f"
  },
  "kernelspec": {
   "display_name": "Python 3.10.4 ('env': venv)",
   "language": "python",
   "name": "python3"
  },
  "language_info": {
   "codemirror_mode": {
    "name": "ipython",
    "version": 3
   },
   "file_extension": ".py",
   "mimetype": "text/x-python",
   "name": "python",
   "nbconvert_exporter": "python",
   "pygments_lexer": "ipython3",
   "version": "3.10.4"
  },
  "orig_nbformat": 4
 },
 "nbformat": 4,
 "nbformat_minor": 2
}
