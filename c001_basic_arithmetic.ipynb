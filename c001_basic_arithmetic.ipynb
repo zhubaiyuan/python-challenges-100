{
 "cells": [
  {
   "cell_type": "markdown",
   "metadata": {},
   "source": [
    "## Basic Arithmetic Operations\n",
    "Write function calc(m, n) that multiplies two variables m and n of type int, then\n",
    "divides the product by two, and outputs the remainder with respect to division by 7."
   ]
  },
  {
   "cell_type": "code",
   "execution_count": 1,
   "metadata": {},
   "outputs": [],
   "source": [
    "import pytest;\n",
    "\n",
    "\n",
    "def calc(m, n):\n",
    "    return m * n // 2 % 7\n",
    "\n",
    "\n",
    "@pytest.mark.parametrize(\"m, n, expected\", [(6, 7, 0), (3, 4, 6), (5, 5, 5)])\n",
    "def test_calc(m, n, expected):\n",
    "    assert calc(m, n) == expected"
   ]
  },
  {
   "cell_type": "code",
   "execution_count": 2,
   "metadata": {},
   "outputs": [],
   "source": [
    "def calc_v2(m, n):\n",
    "    return int(m * n / 2) % 7\n",
    "\n",
    "\n",
    "def test_calc_v2(m, n, expected):\n",
    "    assert calc_v2(m, n) == expected"
   ]
  },
  {
   "cell_type": "markdown",
   "metadata": {},
   "source": [
    "## Statistics\n",
    "Count as well as sum up the natural numbers that are divisible by 2 or 7 up to a given maximum value (exclusive) and output it to the console. Write function calc_sum_and_count_all_numbers_div_by_2_or_7(max_exclusive). Extend it so that it returns the two values instead of performing the console output."
   ]
  },
  {
   "cell_type": "code",
   "execution_count": 3,
   "metadata": {},
   "outputs": [],
   "source": [
    "def calc_sum_and_count_all_numbers_div_by_2_or_7(max_exclusive):\n",
    "    count = 0\n",
    "    sum = 0\n",
    "    for i in range(1, max_exclusive):\n",
    "        if i % 2 == 0 or i % 7 == 0:\n",
    "            count += 1\n",
    "            sum += i\n",
    "    print(\"count:\", count)\n",
    "    print(\"sum:\", sum)\n",
    "\n",
    "\n",
    "@pytest.mark.parametrize(\"n, expected\",\n",
    "                         [(3, {\"sum\": 2, \"count\": 1}),\n",
    "                          (8, {\"sum\": 19, \"count\": 4}),\n",
    "                          (15, {\"sum\": 63, \"count\": 8})])\n",
    "def test_calc_sum_and_count_all_numbers_div_by_2_or_7(n, expected):\n",
    "    assert calc_sum_and_count_all_numbers_div_by_2_or_7(n) == expected"
   ]
  },
  {
   "cell_type": "code",
   "execution_count": 4,
   "metadata": {},
   "outputs": [],
   "source": [
    "def calc_sum_and_count_all_numbers_div_by_2_or_7_v2(max_exclusive):\n",
    "    count = 0\n",
    "    sum = 0\n",
    "    for i in range(1, max_exclusive):\n",
    "        if i % 2 == 0 or i % 7 == 0:\n",
    "            count += 1\n",
    "            sum += i\n",
    "    return {\"sum\": sum, \"count\": count}\n",
    "\n",
    "\n",
    "def test_calc_sum_and_count_all_numbers_div_by_2_or_7_v2(n, expected):\n",
    "    assert calc_sum_and_count_all_numbers_div_by_2_or_7_v2(n) == expected"
   ]
  },
  {
   "cell_type": "markdown",
   "metadata": {},
   "source": [
    "## Even or Odd Number\n",
    "Create the functions is_even(n) and is_odd(n) that will check if the passed integer is even or odd, respectively."
   ]
  },
  {
   "cell_type": "code",
   "execution_count": 5,
   "metadata": {},
   "outputs": [],
   "source": [
    "def is_even(n):\n",
    "    return n % 2 == 0\n",
    "\n",
    "\n",
    "@pytest.mark.parametrize(\"n, expected\",\n",
    "                         [(2, True),\n",
    "                          (7, False)])\n",
    "def test_is_even(n, expected):\n",
    "    assert is_even(n) == expected"
   ]
  },
  {
   "cell_type": "code",
   "execution_count": 6,
   "metadata": {},
   "outputs": [],
   "source": [
    "def is_odd(n):\n",
    "    return n % 2 != 0\n",
    "\n",
    "\n",
    "@pytest.mark.parametrize(\"n, expected\",\n",
    "                         [(2, False),\n",
    "                          (7, True)])\n",
    "def test_is_odd(n, expected):\n",
    "    assert is_odd(n) == expected"
   ]
  }
 ],
 "metadata": {
  "interpreter": {
   "hash": "e1eaf04ccdf268c332c83ff1cf695355cc194ab23e8ff98fff669a3144bd3d3f"
  },
  "kernelspec": {
   "display_name": "Python 3.10.4 ('env': venv)",
   "language": "python",
   "name": "python3"
  },
  "language_info": {
   "codemirror_mode": {
    "name": "ipython",
    "version": 3
   },
   "file_extension": ".py",
   "mimetype": "text/x-python",
   "name": "python",
   "nbconvert_exporter": "python",
   "pygments_lexer": "ipython3",
   "version": "3.10.4"
  },
  "orig_nbformat": 4
 },
 "nbformat": 4,
 "nbformat_minor": 2
}
