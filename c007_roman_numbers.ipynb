{
 "cells": [
  {
   "cell_type": "markdown",
   "metadata": {},
   "source": [
    "## Roman Numbers ➤ Decimal Numbers\n",
    "Write function from_roman_number(roman_number) that computes the corresponding decimal number from a textually valid Roman number."
   ]
  },
  {
   "cell_type": "code",
   "execution_count": null,
   "metadata": {},
   "outputs": [],
   "source": []
  },
  {
   "cell_type": "markdown",
   "metadata": {},
   "source": [
    "## Decimal Numbers ➤ Roman Numbers\n",
    "Write function to_roman_number(value) that converts a decimal number to a (valid)\n",
    "Roman number."
   ]
  },
  {
   "cell_type": "code",
   "execution_count": null,
   "metadata": {},
   "outputs": [],
   "source": []
  }
 ],
 "metadata": {
  "interpreter": {
   "hash": "e1eaf04ccdf268c332c83ff1cf695355cc194ab23e8ff98fff669a3144bd3d3f"
  },
  "kernelspec": {
   "display_name": "Python 3.10.4 ('env': venv)",
   "language": "python",
   "name": "python3"
  },
  "language_info": {
   "name": "python",
   "version": "3.10.4"
  },
  "orig_nbformat": 4
 },
 "nbformat": 4,
 "nbformat_minor": 2
}
