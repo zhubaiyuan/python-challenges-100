{
 "cells": [
  {
   "cell_type": "markdown",
   "metadata": {},
   "source": [
    "## Roman Numbers ➤ Decimal Numbers\n",
    "Write function from_roman_number(roman_number) that computes the corresponding decimal number from a textually valid Roman number."
   ]
  },
  {
   "cell_type": "code",
   "execution_count": 18,
   "metadata": {},
   "outputs": [],
   "source": [
    "value_map = {\"I\": 1, \"V\": 5, \"X\": 10, \"L\": 50, \"C\": 100, \"D\": 500, \"M\": 1000}\n",
    "\n",
    "\n",
    "def from_roman_number(roman_number):\n",
    "    value = 0\n",
    "    last_digit_value = 0\n",
    "    # for i in range(len(roman_number) - 1, -1, -1):\n",
    "    #     roman_digit = roman_number[i]\n",
    "    for roman_digit in reversed(roman_number):\n",
    "        digit_value = value_map[roman_digit]\n",
    "        add_mode = digit_value >= last_digit_value\n",
    "        if add_mode:\n",
    "            value += digit_value\n",
    "            last_digit_value = digit_value\n",
    "        else:\n",
    "            value -= digit_value\n",
    "    return value"
   ]
  },
  {
   "cell_type": "markdown",
   "metadata": {},
   "source": [
    "## Decimal Numbers ➤ Roman Numbers\n",
    "Write function to_roman_number(value) that converts a decimal number to a (valid)\n",
    "Roman number."
   ]
  },
  {
   "cell_type": "code",
   "execution_count": 19,
   "metadata": {},
   "outputs": [],
   "source": [
    "int_to_roman_digit_map = {1: \"I\", 5: \"V\", 10: \"X\",\n",
    "                          50: \"L\", 100: \"C\", 500: \"D\", 1000: \"M\"}\n",
    "\n",
    "\n",
    "def to_roman_number(value):\n",
    "    result = \"\"\n",
    "    remainder = value\n",
    "    # descending order => start with largest value\n",
    "    for i in sorted(int_to_roman_digit_map.keys(), reverse=True):\n",
    "        if remainder > 0:\n",
    "            multiplier = i\n",
    "            roman_digit = int_to_roman_digit_map[i]\n",
    "            times = remainder // multiplier\n",
    "            remainder = remainder % multiplier\n",
    "            result += roman_digit * times\n",
    "    return result"
   ]
  },
  {
   "cell_type": "code",
   "execution_count": 20,
   "metadata": {},
   "outputs": [],
   "source": [
    "def arabic_to_roman_number_map():\n",
    "    return [(1, \"I\"), (2, \"II\"), (3, \"III\"), (4, \"IV\"),\n",
    "            (5, \"V\"), (7, \"VII\"), (9, \"IX\"), (17, \"XVII\"),\n",
    "            (40, \"XL\"), (90, \"XC\"), (400, \"CD\"), (444, \"CDXLIV\"),\n",
    "            (500, \"D\"), (900, \"CM\"), (1000, \"M\"), (1666, \"MDCLXVI\"),\n",
    "            (1971, \"MCMLXXI\"), (2018, \"MMXVIII\"), (2019, \"MMXIX\"),\n",
    "            (2020, \"MMXX\"), (3000, \"MMM\")]"
   ]
  },
  {
   "cell_type": "code",
   "execution_count": 21,
   "metadata": {},
   "outputs": [],
   "source": [
    "import csv\n",
    "\n",
    "\n",
    "def arabic_to_roman_number_map_v2():\n",
    "    result = []\n",
    "    with open('arabicroman.csv', 'rt') as file:\n",
    "        data = csv.reader(file)\n",
    "        skip_first = True\n",
    "        for row in data:\n",
    "            if not skip_first:\n",
    "                result.append((int(row[0].strip()), row[1].strip()))\n",
    "            skip_first = False\n",
    "    return result"
   ]
  },
  {
   "cell_type": "code",
   "execution_count": 22,
   "metadata": {},
   "outputs": [],
   "source": [
    "import pytest\n",
    "\n",
    "\n",
    "@pytest.mark.parametrize(\"expected, roman_number\", arabic_to_roman_number_map())\n",
    "def test_from_roman_number(roman_number, expected):\n",
    "    assert from_roman_number(roman_number) == expected\n",
    "\n",
    "\n",
    "@pytest.mark.parametrize(\"roman_number, expected\", arabic_to_roman_number_map())\n",
    "def test_to_roman_number(roman_number, expected):\n",
    "    assert to_roman_number(roman_number) == expected"
   ]
  },
  {
   "cell_type": "code",
   "execution_count": 23,
   "metadata": {},
   "outputs": [],
   "source": [
    "@pytest.mark.parametrize(\"expected, roman_number\", arabic_to_roman_number_map_v2())\n",
    "def test_from_roman_number(roman_number, expected):\n",
    "    assert from_roman_number(roman_number) == expected\n",
    "\n",
    "\n",
    "@pytest.mark.parametrize(\"roman_number, expected\", arabic_to_roman_number_map_v2())\n",
    "def test_to_roman_number(roman_number, expected):\n",
    "    assert to_roman_number(roman_number) == expected"
   ]
  }
 ],
 "metadata": {
  "interpreter": {
   "hash": "e1eaf04ccdf268c332c83ff1cf695355cc194ab23e8ff98fff669a3144bd3d3f"
  },
  "kernelspec": {
   "display_name": "Python 3.10.4 ('env': venv)",
   "language": "python",
   "name": "python3"
  },
  "language_info": {
   "codemirror_mode": {
    "name": "ipython",
    "version": 3
   },
   "file_extension": ".py",
   "mimetype": "text/x-python",
   "name": "python",
   "nbconvert_exporter": "python",
   "pygments_lexer": "ipython3",
   "version": "3.10.4"
  },
  "orig_nbformat": 4
 },
 "nbformat": 4,
 "nbformat_minor": 2
}
