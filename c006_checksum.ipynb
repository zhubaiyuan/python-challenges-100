{
 "cells": [
  {
   "cell_type": "markdown",
   "metadata": {},
   "source": [
    "## Checksum\n",
    "Create function calc_checksum(digits) that performs the following position-based calculation for the checksum of a number of any length given as a string, with the n digits modeled as z<sub>1</sub> to z<sub>n</sub>:\n",
    "\n",
    "z<sub>1</sub>z<sub>2</sub>z<sub>3</sub>...z<sub>n</sub> => (1 * z<sub>1</sub> + 2 * z<sub>2</sub> + 3 * z<sub>3</sub> + ... + n * z<sub>n</sub>) % 10"
   ]
  },
  {
   "cell_type": "code",
   "execution_count": 1,
   "metadata": {},
   "outputs": [],
   "source": [
    "def calc_checksum(digits):\n",
    "    if not digits.isdigit():\n",
    "        raise ValueError(\"illegal chars: not only digits\")\n",
    "    crc = 0\n",
    "    for i, current_char in enumerate(digits):\n",
    "        value = (int(current_char)) * (i + 1)\n",
    "        crc += value\n",
    "    return int(crc % 10)"
   ]
  },
  {
   "cell_type": "code",
   "execution_count": 2,
   "metadata": {},
   "outputs": [],
   "source": [
    "import pytest\n",
    "\n",
    "\n",
    "assert calc_checksum(\"11111\") == 5\n",
    "assert calc_checksum(\"22222\") == 0\n",
    "assert calc_checksum(\"111111\") == 1\n",
    "assert calc_checksum(\"12345678\") == 4\n",
    "assert calc_checksum(\"87654321\") == 0\n",
    "with pytest.raises(ValueError) as excinfo:\n",
    "    calc_checksum(\"ABC\")\n",
    "assert \"illegal chars\" in str(excinfo.value)"
   ]
  }
 ],
 "metadata": {
  "interpreter": {
   "hash": "e1eaf04ccdf268c332c83ff1cf695355cc194ab23e8ff98fff669a3144bd3d3f"
  },
  "kernelspec": {
   "display_name": "Python 3.10.4 ('env': venv)",
   "language": "python",
   "name": "python3"
  },
  "language_info": {
   "codemirror_mode": {
    "name": "ipython",
    "version": 3
   },
   "file_extension": ".py",
   "mimetype": "text/x-python",
   "name": "python",
   "nbconvert_exporter": "python",
   "pygments_lexer": "ipython3",
   "version": "3.10.4"
  },
  "orig_nbformat": 4
 },
 "nbformat": 4,
 "nbformat_minor": 2
}
