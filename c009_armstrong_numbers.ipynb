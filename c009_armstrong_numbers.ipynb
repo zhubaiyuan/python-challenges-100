{
 "cells": [
  {
   "cell_type": "markdown",
   "metadata": {},
   "source": [
    "## Armstrong Numbers\n",
    "This exercise deals with three-digit Armstrong numbers. By definition, these are\n",
    "numbers for whose digits x, y, and z from 1 to 9 satisfy the following equation: \n",
    "\n",
    "x * 100 + y * 100 + z = x<sup>3</sup> + y<sup>3</sup> + z<sup>3</sup>\n",
    "\n",
    "Write function calc_armstrong_numbers() to compute all Armstrong numbers for x, y, and z (each < 10)."
   ]
  },
  {
   "cell_type": "code",
   "execution_count": 1,
   "metadata": {},
   "outputs": [],
   "source": [
    "def calc_armstrong_numbers():\n",
    "    results = []\n",
    "    for x in range(1, 10):\n",
    "        for y in range(1, 10):\n",
    "            for z in range(1, 10):\n",
    "                numeric_value = x * 100 + y * 10 + z\n",
    "                cubic_value = int(pow(x, 3) + pow(y, 3) + pow(z, 3))\n",
    "                if numeric_value == cubic_value:\n",
    "                    results.append(numeric_value)\n",
    "    return results"
   ]
  },
  {
   "cell_type": "code",
   "execution_count": 2,
   "metadata": {},
   "outputs": [],
   "source": [
    "assert calc_armstrong_numbers() == [153, 371]"
   ]
  },
  {
   "cell_type": "code",
   "execution_count": 3,
   "metadata": {},
   "outputs": [],
   "source": [
    "def calc_numbers(cubic_function):\n",
    "    results = []\n",
    "    for x in range(1, 10):\n",
    "        for y in range(1, 10):\n",
    "            for z in range(1, 10):\n",
    "                numeric_value = x * 100 + y * 10 + z\n",
    "                cubic_value = int(cubic_function(x, y, z))\n",
    "                if numeric_value == cubic_value:\n",
    "                    results.append(numeric_value)\n",
    "    return results"
   ]
  },
  {
   "cell_type": "code",
   "execution_count": 4,
   "metadata": {},
   "outputs": [],
   "source": [
    "def special1(x, y, z):\n",
    "    return int(pow(x, 3) + pow(y, 3) + pow(z, 3))\n",
    "\n",
    "\n",
    "def special2(x, y, z):\n",
    "    return int(pow(x, 1) + pow(y, 2) + pow(z, 3))\n",
    "\n",
    "\n",
    "def special3(x, y, z):\n",
    "    return int(pow(x, 3) + pow(y, 2) + pow(z, 1))"
   ]
  },
  {
   "cell_type": "code",
   "execution_count": 5,
   "metadata": {},
   "outputs": [
    {
     "data": {
      "text/plain": [
       "[153, 371]"
      ]
     },
     "execution_count": 5,
     "metadata": {},
     "output_type": "execute_result"
    }
   ],
   "source": [
    "calc_numbers(special1)"
   ]
  },
  {
   "cell_type": "code",
   "execution_count": 6,
   "metadata": {},
   "outputs": [
    {
     "data": {
      "text/plain": [
       "[135, 175, 518, 598]"
      ]
     },
     "execution_count": 6,
     "metadata": {},
     "output_type": "execute_result"
    }
   ],
   "source": [
    "calc_numbers(special2)"
   ]
  },
  {
   "cell_type": "code",
   "execution_count": 7,
   "metadata": {},
   "outputs": [
    {
     "data": {
      "text/plain": [
       "[]"
      ]
     },
     "execution_count": 7,
     "metadata": {},
     "output_type": "execute_result"
    }
   ],
   "source": [
    "calc_numbers(special3)"
   ]
  }
 ],
 "metadata": {
  "interpreter": {
   "hash": "e1eaf04ccdf268c332c83ff1cf695355cc194ab23e8ff98fff669a3144bd3d3f"
  },
  "kernelspec": {
   "display_name": "Python 3.10.4 ('env': venv)",
   "language": "python",
   "name": "python3"
  },
  "language_info": {
   "codemirror_mode": {
    "name": "ipython",
    "version": 3
   },
   "file_extension": ".py",
   "mimetype": "text/x-python",
   "name": "python",
   "nbconvert_exporter": "python",
   "pygments_lexer": "ipython3",
   "version": "3.10.4"
  },
  "orig_nbformat": 4
 },
 "nbformat": 4,
 "nbformat_minor": 2
}
