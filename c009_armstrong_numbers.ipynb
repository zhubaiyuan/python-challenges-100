{
 "cells": [
  {
   "cell_type": "markdown",
   "metadata": {},
   "source": [
    "## Armstrong Numbers\n",
    "This exercise deals with three-digit Armstrong numbers. By definition, these are\n",
    "numbers for whose digits x, y, and z from 1 to 9 satisfy the following equation: \n",
    "\n",
    "x * 100 + y * 100 + z = x<sup>3</sup> + y<sup>3</sup> + z<sup>3</sup>\n",
    "\n",
    "Write function calc_armstrong_numbers() to compute all Armstrong numbers for x, y, and z (each < 10)."
   ]
  },
  {
   "cell_type": "code",
   "execution_count": null,
   "metadata": {},
   "outputs": [],
   "source": []
  }
 ],
 "metadata": {
  "interpreter": {
   "hash": "e1eaf04ccdf268c332c83ff1cf695355cc194ab23e8ff98fff669a3144bd3d3f"
  },
  "kernelspec": {
   "display_name": "Python 3.10.4 ('env': venv)",
   "language": "python",
   "name": "python3"
  },
  "language_info": {
   "name": "python",
   "version": "3.10.4"
  },
  "orig_nbformat": 4
 },
 "nbformat": 4,
 "nbformat_minor": 2
}
