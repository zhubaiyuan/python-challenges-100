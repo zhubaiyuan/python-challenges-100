{
 "cells": [
  {
   "cell_type": "markdown",
   "metadata": {},
   "source": [
    "## Prime Number Pairs\n",
    "Compute all pairs of prime numbers with a distance of 2 (twin), 4 (cousin), and 6 (sexy)\n",
    "up to an upper bound for n. For twins then the following is true:\n",
    "is_Prime(n) && is_Prime(n + 2)"
   ]
  },
  {
   "cell_type": "code",
   "execution_count": 1,
   "metadata": {},
   "outputs": [],
   "source": [
    "import itertools\n",
    "\n",
    "\n",
    "def erase_multiples_of_current(values, number):\n",
    "    for n in range(number + number, len(values), number):\n",
    "        values[n] = False\n",
    "        # print(\"Eliminating:\", n)\n",
    "\n",
    "\n",
    "def calc_primes_up_to(max_value):\n",
    "    is_potentially_prime = [True for _ in range(1, max_value + 2)]\n",
    "    for number in range(2, int(max_value / 2) + 1):\n",
    "        if is_potentially_prime[number]:\n",
    "            erase_multiples_of_current(is_potentially_prime, number)\n",
    "    # mark values 0 and 1 as no prime number\n",
    "    is_potentially_prime[0:2] = False, False\n",
    "    # merging / selection of values\n",
    "    return list(itertools.compress(range(len(is_potentially_prime)), is_potentially_prime))\n",
    "\n",
    "\n",
    "def is_prime(n):\n",
    "    primes = calc_primes_up_to(n + 1)\n",
    "    return n in primes"
   ]
  },
  {
   "cell_type": "code",
   "execution_count": 2,
   "metadata": {},
   "outputs": [],
   "source": [
    "def main():\n",
    "    def is_twin_pair(n):\n",
    "        return is_prime(n) and is_prime(n + 2)\n",
    "\n",
    "    def is_cousin_pair(n):\n",
    "        return is_prime(n) and is_prime(n + 4)\n",
    "\n",
    "    def is_sexy_pair(n):\n",
    "        return is_prime(n) and is_prime(n + 6)\n",
    "    \n",
    "    # manual update \n",
    "    twin_pairs = {}\n",
    "    for i in range(1, 50):\n",
    "        if is_twin_pair(i):\n",
    "            twin_pairs.update({i: i + 2})\n",
    "    # dict comprehensions\n",
    "    cousin_pairs = {i: i + 4 for i in range(1, 50) if is_cousin_pair(i)}\n",
    "    sexy_pairs = {i: i + 6 for i in range(1, 50) if is_sexy_pair(i)}\n",
    "    print(\"Twins:\", twin_pairs)\n",
    "    print(\"Cousins:\", cousin_pairs)\n",
    "    print(\"Sexy:\", sexy_pairs)"
   ]
  },
  {
   "cell_type": "code",
   "execution_count": 3,
   "metadata": {},
   "outputs": [
    {
     "name": "stdout",
     "output_type": "stream",
     "text": [
      "Twins: {3: 5, 5: 7, 11: 13, 17: 19, 29: 31, 41: 43}\n",
      "Cousins: {3: 7, 7: 11, 13: 17, 19: 23, 37: 41, 43: 47}\n",
      "Sexy: {5: 11, 7: 13, 11: 17, 13: 19, 17: 23, 23: 29, 31: 37, 37: 43, 41: 47, 47: 53}\n"
     ]
    }
   ],
   "source": [
    "main()"
   ]
  },
  {
   "cell_type": "code",
   "execution_count": 4,
   "metadata": {},
   "outputs": [],
   "source": [
    "def is_prime(primes, n):\n",
    "    return n in primes"
   ]
  },
  {
   "cell_type": "code",
   "execution_count": 5,
   "metadata": {},
   "outputs": [],
   "source": [
    "def calc_prime_pairs(max_value):\n",
    "    primes = calc_primes_up_to(max_value + 7)\n",
    "\n",
    "    def is_twin_pair(n):\n",
    "        return is_prime(primes, n) and is_prime(primes, n + 2)\n",
    "\n",
    "    def is_cousin_pair(n):\n",
    "        return is_prime(primes, n) and is_prime(primes, n + 4)\n",
    "\n",
    "    def is_sexy_pair(n):\n",
    "        return is_prime(primes, n) and is_prime(primes, n + 6)\n",
    "    # manual update\n",
    "    twin_pairs = {}\n",
    "    for i in range(1, max_value):\n",
    "        if is_twin_pair(i):\n",
    "            twin_pairs.update({i: i + 2})\n",
    "    # dict comprehensions\n",
    "    cousin_pairs = {i: i + 4 for i in range(1, max_value) if is_cousin_pair(i)}\n",
    "    sexy_pairs = {i: i + 6 for i in range(1, max_value) if is_sexy_pair(i)}\n",
    "    print(\"Twins: \", twin_pairs)\n",
    "    print(\"Cousins: \", cousin_pairs)\n",
    "    print(\"Sexy: \", sexy_pairs)"
   ]
  },
  {
   "cell_type": "code",
   "execution_count": 6,
   "metadata": {},
   "outputs": [
    {
     "name": "stdout",
     "output_type": "stream",
     "text": [
      "Twins:  {3: 5, 5: 7, 11: 13, 17: 19, 29: 31, 41: 43}\n",
      "Cousins:  {3: 7, 7: 11, 13: 17, 19: 23, 37: 41, 43: 47}\n",
      "Sexy:  {5: 11, 7: 13, 11: 17, 13: 19, 17: 23, 23: 29, 31: 37, 37: 43, 41: 47, 47: 53}\n"
     ]
    }
   ],
   "source": [
    "calc_prime_pairs(50)"
   ]
  },
  {
   "cell_type": "code",
   "execution_count": 7,
   "metadata": {},
   "outputs": [],
   "source": [
    "def calc_pairs(max_value, distance):\n",
    "    primes = calc_primes_up_to(max_value + distance)\n",
    "    return {number: number + distance for number in range(1, max_value) if is_prime(primes, number) and is_prime(primes, number + distance)}"
   ]
  },
  {
   "cell_type": "code",
   "execution_count": 8,
   "metadata": {},
   "outputs": [],
   "source": [
    "def calc_prime_pairs_v2(max_value):\n",
    "    twin_pairs = calc_pairs(max_value, 2)\n",
    "    cousin_pairs = calc_pairs(max_value, 4)\n",
    "    sexy_pairs = calc_pairs(max_value, 6)\n",
    "    print(\"Twins:\", twin_pairs)\n",
    "    print(\"Cousins:\", cousin_pairs)\n",
    "    print(\"Sexy:\", sexy_pairs)"
   ]
  },
  {
   "cell_type": "code",
   "execution_count": 9,
   "metadata": {},
   "outputs": [
    {
     "name": "stdout",
     "output_type": "stream",
     "text": [
      "Twins: {3: 5, 5: 7, 11: 13, 17: 19, 29: 31, 41: 43}\n",
      "Cousins: {3: 7, 7: 11, 13: 17, 19: 23, 37: 41, 43: 47}\n",
      "Sexy: {5: 11, 7: 13, 11: 17, 13: 19, 17: 23, 23: 29, 31: 37, 37: 43, 41: 47, 47: 53}\n"
     ]
    }
   ],
   "source": [
    "calc_prime_pairs_v2(50)"
   ]
  }
 ],
 "metadata": {
  "interpreter": {
   "hash": "e1eaf04ccdf268c332c83ff1cf695355cc194ab23e8ff98fff669a3144bd3d3f"
  },
  "kernelspec": {
   "display_name": "Python 3.10.4 ('env': venv)",
   "language": "python",
   "name": "python3"
  },
  "language_info": {
   "codemirror_mode": {
    "name": "ipython",
    "version": 3
   },
   "file_extension": ".py",
   "mimetype": "text/x-python",
   "name": "python",
   "nbconvert_exporter": "python",
   "pygments_lexer": "ipython3",
   "version": "3.10.4"
  },
  "orig_nbformat": 4
 },
 "nbformat": 4,
 "nbformat_minor": 2
}
