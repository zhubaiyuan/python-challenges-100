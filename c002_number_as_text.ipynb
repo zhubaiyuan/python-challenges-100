{
 "cells": [
  {
   "cell_type": "markdown",
   "metadata": {},
   "source": [
    "## Number as Text\n",
    "Write function number_as_text(n) which, for a given positive number, converts the respective digits into corresponding text."
   ]
  },
  {
   "cell_type": "code",
   "execution_count": 1,
   "metadata": {},
   "outputs": [],
   "source": [
    "import pytest\n",
    "\n",
    "\n",
    "value_to_text_mapping = {\n",
    "    0: \"ZERO\", 1: \"ONE\", 2: \"TWO\", 3: \"THREE\", 4: \"FOUR\",\n",
    "    5: \"FIVE\", 6: \"SIX\", 7: \"SEVEN\", 8: \"EIGHT\", 9: \"NINE\"\n",
    "}\n",
    "\n",
    "\n",
    "def digit_as_text(n):\n",
    "    return value_to_text_mapping[n % 10]"
   ]
  },
  {
   "cell_type": "code",
   "execution_count": 2,
   "metadata": {},
   "outputs": [],
   "source": [
    "def number_as_text(n):\n",
    "    value = \"\"\n",
    "    remaining_value = n\n",
    "    while remaining_value > 0:\n",
    "        remainder_as_text = digit_as_text(remaining_value % 10)\n",
    "        remaining_value = int(remaining_value / 10)\n",
    "        value = remainder_as_text + \" \" + value\n",
    "    return value.strip()\n",
    "\n",
    "\n",
    "@pytest.mark.parametrize(\"n, expected\",\n",
    "                         [(7, \"SEVEN\"),\n",
    "                          (42, \"FOUR TWO\"),\n",
    "                          (7271, \"SEVEN TWO SEVEN ONE\"),\n",
    "                          (24680, \"TWO FOUR SIX EIGHT ZERO\"),\n",
    "                          (13579, \"ONE THREE FIVE SEVEN NINE\")])\n",
    "def test_number_as_text(n, expected):\n",
    "    assert number_as_text(n) == expected"
   ]
  },
  {
   "cell_type": "code",
   "execution_count": 3,
   "metadata": {},
   "outputs": [],
   "source": [
    "def number_as_text_v2(n):\n",
    "    value = \"\"\n",
    "    remaining_value = n\n",
    "    while remaining_value > 0:\n",
    "        remaining_value, remainder = divmod(remaining_value, 10)\n",
    "        value = digit_as_text(remainder) + \" \" + value\n",
    "    return value.strip()\n",
    "\n",
    "\n",
    "def test_number_as_text_v2(n, expected):\n",
    "    assert number_as_text_v2(n) == expected"
   ]
  },
  {
   "cell_type": "code",
   "execution_count": 4,
   "metadata": {},
   "outputs": [],
   "source": [
    "def number_as_text_v3(n):\n",
    "    value = \"\"\n",
    "    for ch in str(n):\n",
    "        value += digit_as_text(int(ch)) + \" \"\n",
    "    return value.strip()\n",
    "\n",
    "\n",
    "def test_number_as_text_v3(n, expected):\n",
    "    assert number_as_text_v3(n) == expected"
   ]
  }
 ],
 "metadata": {
  "interpreter": {
   "hash": "e1eaf04ccdf268c332c83ff1cf695355cc194ab23e8ff98fff669a3144bd3d3f"
  },
  "kernelspec": {
   "display_name": "Python 3.10.4 ('env': venv)",
   "language": "python",
   "name": "python3"
  },
  "language_info": {
   "codemirror_mode": {
    "name": "ipython",
    "version": 3
   },
   "file_extension": ".py",
   "mimetype": "text/x-python",
   "name": "python",
   "nbconvert_exporter": "python",
   "pygments_lexer": "ipython3",
   "version": "3.10.4"
  },
  "orig_nbformat": 4
 },
 "nbformat": 4,
 "nbformat_minor": 2
}
