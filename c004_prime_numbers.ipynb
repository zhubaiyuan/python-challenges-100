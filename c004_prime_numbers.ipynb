{
 "cells": [
  {
   "cell_type": "markdown",
   "metadata": {},
   "source": [
    "## Prime Numbers\n",
    "Write function calc_primes_up_to(max_value) to compute all prime numbers up to a given value. As a reminder, a prime number is a natural number greater than 1 and exclusively divisible by itself and by 1. To compute a prime number, the Sieve of Eratosthenes was described before."
   ]
  },
  {
   "cell_type": "code",
   "execution_count": 1,
   "metadata": {},
   "outputs": [],
   "source": [
    "import itertools\n",
    "\n",
    "\n",
    "def calc_primes_up_to(max_value):\n",
    "    # initially mark all values as potential prime number\n",
    "    is_potentially_prime = [True for _ in range(1, max_value + 2)]\n",
    "    # run through all numbers starting at 2, optimization only up to half\n",
    "    for number in range(2, max_value // 2 + 1):\n",
    "        if is_potentially_prime[number]:\n",
    "            erase_multiples_of_current(is_potentially_prime, number)\n",
    "    return build_primes_list(is_potentially_prime)"
   ]
  },
  {
   "cell_type": "code",
   "execution_count": 2,
   "metadata": {},
   "outputs": [],
   "source": [
    "def erase_multiples_of_current(values, number):\n",
    "    for n in range(number + number, len(values), number):\n",
    "        values[n] = False\n",
    "        # print(\"Eliminating:\", n)\n",
    "\n",
    "\n",
    "def build_primes_list(is_potentially_prime):\n",
    "    primes = []\n",
    "    for number in range(2, len(is_potentially_prime)):\n",
    "        if is_potentially_prime[number]:\n",
    "            primes.append(number)\n",
    "    return primes\n",
    "\n",
    "\n",
    "def build_primes_list_v2(is_potentially_prime):\n",
    "    return [number for number in range(2, len(is_potentially_prime)) if is_potentially_prime[number]]"
   ]
  },
  {
   "cell_type": "code",
   "execution_count": 3,
   "metadata": {},
   "outputs": [],
   "source": [
    "def calc_primes_up_to_v2(max_value):\n",
    "    is_potentially_prime = [True for _ in range(1, max_value + 2)]\n",
    "    for number in range(2, int(max_value / 2) + 1):\n",
    "        if is_potentially_prime[number]:\n",
    "            erase_multiples_of_current(is_potentially_prime, number)\n",
    "    # mark values 0 and 1 as no prime number\n",
    "    is_potentially_prime[0:2] = False, False\n",
    "    # merging / selection of values\n",
    "    return list(itertools.compress(range(len(is_potentially_prime)), is_potentially_prime))"
   ]
  },
  {
   "cell_type": "code",
   "execution_count": 4,
   "metadata": {},
   "outputs": [],
   "source": [
    "assert calc_primes_up_to(2) == [2]\n",
    "assert calc_primes_up_to(3) == [2, 3]\n",
    "assert calc_primes_up_to(10) == [2, 3, 5, 7]\n",
    "assert calc_primes_up_to(15) == [2, 3, 5, 7, 11, 13]\n",
    "assert calc_primes_up_to(20) == [2, 3, 5, 7, 11, 13, 17, 19]\n",
    "assert calc_primes_up_to(25) == [2, 3, 5, 7, 11, 13, 17, 19, 23]\n",
    "assert calc_primes_up_to(50) == [2, 3, 5, 7, 11, 13, 17, 19, 23, 29, 31, 37, 41, 43, 47]"
   ]
  },
  {
   "cell_type": "code",
   "execution_count": 5,
   "metadata": {},
   "outputs": [],
   "source": [
    "assert calc_primes_up_to_v2(2) == [2]\n",
    "assert calc_primes_up_to_v2(3) == [2, 3]\n",
    "assert calc_primes_up_to_v2(10) == [2, 3, 5, 7]\n",
    "assert calc_primes_up_to_v2(15) == [2, 3, 5, 7, 11, 13]\n",
    "assert calc_primes_up_to_v2(20) == [2, 3, 5, 7, 11, 13, 17, 19]\n",
    "assert calc_primes_up_to_v2(25) == [2, 3, 5, 7, 11, 13, 17, 19, 23]\n",
    "assert calc_primes_up_to_v2(50) == [2, 3, 5, 7, 11, 13, 17, 19, 23, 29, 31, 37, 41, 43, 47]"
   ]
  }
 ],
 "metadata": {
  "interpreter": {
   "hash": "e1eaf04ccdf268c332c83ff1cf695355cc194ab23e8ff98fff669a3144bd3d3f"
  },
  "kernelspec": {
   "display_name": "Python 3.10.4 ('env': venv)",
   "language": "python",
   "name": "python3"
  },
  "language_info": {
   "codemirror_mode": {
    "name": "ipython",
    "version": 3
   },
   "file_extension": ".py",
   "mimetype": "text/x-python",
   "name": "python",
   "nbconvert_exporter": "python",
   "pygments_lexer": "ipython3",
   "version": "3.10.4"
  },
  "orig_nbformat": 4
 },
 "nbformat": 4,
 "nbformat_minor": 2
}
