{
 "cells": [
  {
   "cell_type": "markdown",
   "metadata": {},
   "source": [
    "## Computation of a<sup>2</sup> + b<sup>2</sup> = c<sup>2</sup>\n",
    "Compute all combinations of the values a, b, and c (each starting from 1 and less than 100) for which the following formula holds:\n",
    "\n",
    "a<sup>2</sup> + b<sup>2</sup> = c<sup>2</sup>"
   ]
  },
  {
   "cell_type": "code",
   "execution_count": null,
   "metadata": {},
   "outputs": [],
   "source": []
  },
  {
   "cell_type": "markdown",
   "metadata": {},
   "source": [
    "## Computation of a<sup>2</sup> + b<sup>2</sup> = c<sup>2</sup> + d<sup>2</sup>\n",
    "Compute all combinations of the values a, b, c, and d (each starting from 1 and less than\n",
    "100) for which the following formula holds:\n",
    "\n",
    "a<sup>2</sup> + b<sup>2</sup> = c<sup>2</sup> + d<sup>2</sup>"
   ]
  },
  {
   "cell_type": "code",
   "execution_count": null,
   "metadata": {},
   "outputs": [],
   "source": []
  }
 ],
 "metadata": {
  "interpreter": {
   "hash": "e1eaf04ccdf268c332c83ff1cf695355cc194ab23e8ff98fff669a3144bd3d3f"
  },
  "kernelspec": {
   "display_name": "Python 3.10.4 ('env': venv)",
   "language": "python",
   "name": "python3"
  },
  "language_info": {
   "name": "python",
   "version": "3.10.4"
  },
  "orig_nbformat": 4
 },
 "nbformat": 4,
 "nbformat_minor": 2
}
