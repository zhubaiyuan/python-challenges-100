{
 "cells": [
  {
   "cell_type": "markdown",
   "metadata": {},
   "source": [
    "## Related Numbers\n",
    "Two numbers n<sub>1</sub> and n<sub>2</sub> are called friends (or related) if the sum of their divisors is equal to the other number:\n",
    "\n",
    "sum(divisors(n<sub>1</sub>)) = n<sub>2</sub> \n",
    "\n",
    "sum(divisors(n<sub>2</sub>)) = n<sub>1</sub>\n",
    "\n",
    "Write function calc_friends(max_exclusive) to compute all friends numbers up to a passed maximum value."
   ]
  },
  {
   "cell_type": "code",
   "execution_count": null,
   "metadata": {},
   "outputs": [],
   "source": []
  }
 ],
 "metadata": {
  "interpreter": {
   "hash": "e1eaf04ccdf268c332c83ff1cf695355cc194ab23e8ff98fff669a3144bd3d3f"
  },
  "kernelspec": {
   "display_name": "Python 3.10.4 ('env': venv)",
   "language": "python",
   "name": "python3"
  },
  "language_info": {
   "name": "python",
   "version": "3.10.4"
  },
  "orig_nbformat": 4
 },
 "nbformat": 4,
 "nbformat_minor": 2
}
