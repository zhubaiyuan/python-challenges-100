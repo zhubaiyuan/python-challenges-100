{
 "cells": [
  {
   "cell_type": "markdown",
   "metadata": {},
   "source": [
    "## Related Numbers\n",
    "Two numbers n<sub>1</sub> and n<sub>2</sub> are called friends (or related) if the sum of their divisors is equal to the other number:\n",
    "\n",
    "sum(divisors(n<sub>1</sub>)) = n<sub>2</sub> \n",
    "\n",
    "sum(divisors(n<sub>2</sub>)) = n<sub>1</sub>\n",
    "\n",
    "Write function calc_friends(max_exclusive) to compute all friends numbers up to a passed maximum value."
   ]
  },
  {
   "cell_type": "code",
   "execution_count": 1,
   "metadata": {},
   "outputs": [],
   "source": [
    "def find_proper_divisors(value):\n",
    "    divisors = [1]\n",
    "    for i in range(2, value // 2 + 1):\n",
    "        if value % i == 0:\n",
    "            divisors.append(i)\n",
    "    return divisors"
   ]
  },
  {
   "cell_type": "code",
   "execution_count": 2,
   "metadata": {},
   "outputs": [],
   "source": [
    "assert find_proper_divisors(6) == [1, 2, 3]\n",
    "assert find_proper_divisors(24) == [1, 2, 3, 4, 6, 8, 12]"
   ]
  },
  {
   "cell_type": "code",
   "execution_count": 3,
   "metadata": {},
   "outputs": [],
   "source": [
    "def find_proper_divisors_v1(value):\n",
    "    return [i for i in range(1, value // 2 + 1) if value % i == 0]"
   ]
  },
  {
   "cell_type": "code",
   "execution_count": 4,
   "metadata": {},
   "outputs": [],
   "source": [
    "assert find_proper_divisors_v1(6) == [1, 2, 3]\n",
    "assert find_proper_divisors_v1(24) == [1, 2, 3, 4, 6, 8, 12]"
   ]
  },
  {
   "cell_type": "code",
   "execution_count": 5,
   "metadata": {},
   "outputs": [],
   "source": [
    "def calc_friends(max_exclusive):\n",
    "    friends = {}\n",
    "    for i in range(2, max_exclusive):\n",
    "        divisors1 = find_proper_divisors(i)\n",
    "        sum_div1 = sum(divisors1)\n",
    "        divisors2 = find_proper_divisors(sum_div1)\n",
    "        sum_div2 = sum(divisors2)\n",
    "        if i == sum_div2 and sum_div1 != sum_div2:\n",
    "            friends[i] = sum_div1\n",
    "    return friends"
   ]
  },
  {
   "cell_type": "code",
   "execution_count": 6,
   "metadata": {},
   "outputs": [],
   "source": [
    "assert calc_friends(250) == {220: 284}\n",
    "assert calc_friends(300) == {220: 284, 284: 220}\n",
    "assert calc_friends(2_000) == {220: 284, 284: 220, 1_184: 1_210, 1_210: 1_184}"
   ]
  }
 ],
 "metadata": {
  "interpreter": {
   "hash": "e1eaf04ccdf268c332c83ff1cf695355cc194ab23e8ff98fff669a3144bd3d3f"
  },
  "kernelspec": {
   "display_name": "Python 3.10.4 ('env': venv)",
   "language": "python",
   "name": "python3"
  },
  "language_info": {
   "codemirror_mode": {
    "name": "ipython",
    "version": 3
   },
   "file_extension": ".py",
   "mimetype": "text/x-python",
   "name": "python",
   "nbconvert_exporter": "python",
   "pygments_lexer": "ipython3",
   "version": "3.10.4"
  },
  "orig_nbformat": 4
 },
 "nbformat": 4,
 "nbformat_minor": 2
}
